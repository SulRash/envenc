{
 "cells": [
  {
   "cell_type": "code",
   "execution_count": 1,
   "metadata": {},
   "outputs": [],
   "source": [
    "%load_ext autoreload\n",
    "%autoreload 2"
   ]
  },
  {
   "cell_type": "code",
   "execution_count": 2,
   "metadata": {},
   "outputs": [
    {
     "name": "stderr",
     "output_type": "stream",
     "text": [
      "/eph/nvme0/azureml/cr/j/b6c56e26dc294900ab4fe668a5e1b6f7/exe/wd/miniconda/envs/envenc/lib/python3.10/site-packages/tqdm/auto.py:21: TqdmWarning: IProgress not found. Please update jupyter and ipywidgets. See https://ipywidgets.readthedocs.io/en/stable/user_install.html\n",
      "  from .autonotebook import tqdm as notebook_tqdm\n",
      "/eph/nvme0/azureml/cr/j/b6c56e26dc294900ab4fe668a5e1b6f7/exe/wd/miniconda/envs/envenc/lib/python3.10/site-packages/huggingface_hub/file_download.py:1132: FutureWarning: `resume_download` is deprecated and will be removed in version 1.0.0. Downloads always resume when possible. If you want to force a new download, use `force_download=True`.\n",
      "  warnings.warn(\n"
     ]
    }
   ],
   "source": [
    "from tinyllava.model.builder import load_pretrained_model\n",
    "from tinyllava.mm_utils import get_model_name_from_path\n",
    "\n",
    "import torch.nn as nn\n",
    "\n",
    "model_path = \"bczhou/TinyLLaVA-2.0B\"\n",
    "\n",
    "tokenizer, model, image_processor, context_len = load_pretrained_model(\n",
    "    model_path=model_path,\n",
    "    model_base=None,\n",
    "    model_name=get_model_name_from_path(model_path)\n",
    ")\n",
    "\n",
    "#from serve import infer\n",
    "\n",
    "#result = infer(tokenizer, model, image_processor, \"What is cute about this image?\", image_file=\"Cute_dog.jpg\")\n",
    "#summary(model, (context_len))\n",
    "print(model)\n",
    "#print(result)\n",
    "\n",
    "# model.lm_head = Identity()\n",
    "# result = infer_no_lm(tokenizer, model, image_processor, \"What is cute about this image?\", image_file=\"Cute_dog.jpg\")\n",
    "# #summary(model, (context_len))\n",
    "# print(model)\n",
    "# print(result.shape)\n",
    "\n"
   ]
  },
  {
   "cell_type": "code",
   "execution_count": null,
   "metadata": {},
   "outputs": [],
   "source": []
  },
  {
   "cell_type": "code",
   "execution_count": 9,
   "metadata": {},
   "outputs": [
    {
     "name": "stdout",
     "output_type": "stream",
     "text": [
      "torch.Size([1, 32, 770, 64])\n",
      "torch.Size([1, 770, 100289])\n",
      "torch.Size([770, 100289])\n",
      "torch.Size([1, 32, 39, 64])\n",
      "torch.Size([1, 39, 100289])\n",
      "torch.Size([39, 100289])\n",
      "25\n",
      "torch.Size([1, 39, 2048])\n"
     ]
    }
   ],
   "source": [
    "from serve import infer_no_lm, infer\n",
    "from copy import deepcopy\n",
    "llm = deepcopy(model)\n",
    "\n",
    "input_text = \"Say a long clever sentence\"\n",
    "\n",
    "# out, out_ids = infer(tokenizer, llm, image_processor, input_text, image_file=\"Cute_dog.jpg\")\n",
    "# print(out_ids.shape)\n",
    "# out, out_ids = infer(tokenizer, llm, image_processor, input_text, None)\n",
    "# print(out_ids.shape)\n",
    "\n",
    "#llm.lm_head = nn.Identity()\n",
    "# llm.model.mm_projector = nn.Identity()\n",
    "out = infer_no_lm(tokenizer, llm, image_processor, input_text, image_file=\"Cute_dog.jpg\")\n",
    "print(out.past_key_values[0][0].shape)\n",
    "print(out.logits.shape)\n",
    "print(out.logits[0].shape)\n",
    "out = infer_no_lm(tokenizer, llm, image_processor, input_text, None)\n",
    "print(out.past_key_values[0][0].shape)\n",
    "print(out.logits.shape)\n",
    "print(out.logits[0].shape)\n",
    "print(len(out.hidden_states))\n",
    "\n",
    "# This one is it!\n",
    "print(out.hidden_states[0].shape)\n"
   ]
  },
  {
   "cell_type": "code",
   "execution_count": 10,
   "metadata": {},
   "outputs": [
    {
     "name": "stdout",
     "output_type": "stream",
     "text": [
      "torch.Size([2048])\n"
     ]
    }
   ],
   "source": [
    "print(out.hidden_states[0][0].mean(dim=0).shape)"
   ]
  },
  {
   "cell_type": "code",
   "execution_count": null,
   "metadata": {},
   "outputs": [],
   "source": []
  }
 ],
 "metadata": {
  "kernelspec": {
   "display_name": "Python 3",
   "language": "python",
   "name": "python3"
  },
  "language_info": {
   "codemirror_mode": {
    "name": "ipython",
    "version": 3
   },
   "file_extension": ".py",
   "mimetype": "text/x-python",
   "name": "python",
   "nbconvert_exporter": "python",
   "pygments_lexer": "ipython3",
   "version": "3.10.14"
  }
 },
 "nbformat": 4,
 "nbformat_minor": 2
}
